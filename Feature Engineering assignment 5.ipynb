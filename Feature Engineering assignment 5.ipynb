{
 "cells": [
  {
   "cell_type": "markdown",
   "id": "ced9c591-d898-41af-9d87-a0b53b2bcb09",
   "metadata": {},
   "source": [
    "Audio encoding refers to the process of converting analog audio signal into digital data,typically using codecs like MP3,AAC,FLAC.This process involves compressing the audio data to reduce file size while preseving perceived audio quality.Level encoding on the other hand typically refers to encoding data reprsenting difrrent levels or states often in the context of digital commuunication or signal processsing it may involve reprsenting data using binary digit to convey diffrent level or states. An example where you might choose audio encoding over level encoding when you want to store or tranmit audio files efficently while maintaning acceptable sound quality for instance if you are creatiing an audio streamiing sevice you would likely use."
   ]
  },
  {
   "cell_type": "markdown",
   "id": "5158dde5-fcfe-461c-ab95-85fcd6203db3",
   "metadata": {},
   "source": [
    "Target Guided ordinary encoding is a technique used in machine learning for encoding categorical variable it involes encoding categorical variables based on the relationship between the category and the target variable.\n",
    "1. Calculated target statictics\n",
    "2. Encode categories\n",
    "3. Handle Missing Value"
   ]
  },
  {
   "cell_type": "markdown",
   "id": "4a6ab565-90a6-4f1f-98e9-4759a9a7fb85",
   "metadata": {},
   "source": [
    "Covariance measure the degree to which two variable change together in statiscal anyalasyis it crucial because it helps understand the relationship between two variable and how they moved in relation to each other.for example if two variable tend to increase or decrease together they have a postive covariance while if one tends to increase when the other decrease they have negative covariance"
   ]
  },
  {
   "cell_type": "code",
   "execution_count": 1,
   "id": "e1d3a119-a8f9-4cf5-b2a1-98f21d7b5f07",
   "metadata": {},
   "outputs": [
    {
     "ename": "SyntaxError",
     "evalue": "unterminated string literal (detected at line 8) (295710004.py, line 8)",
     "output_type": "error",
     "traceback": [
      "\u001b[0;36m  Cell \u001b[0;32mIn[1], line 8\u001b[0;36m\u001b[0m\n\u001b[0;31m    'material':['wood', ;metal','plastic','wood','metal']\u001b[0m\n\u001b[0m                                                       ^\u001b[0m\n\u001b[0;31mSyntaxError\u001b[0m\u001b[0;31m:\u001b[0m unterminated string literal (detected at line 8)\n"
     ]
    }
   ],
   "source": [
    "from sklearn.preprocessiing import\n",
    "labelEncoder\\\n",
    "\n",
    "# Sample dataset\n",
    "data = {\n",
    "    'color':,['red','green','blue','red', 'green'],\n",
    "    'size':['small','medium','large', 'medium', 'small'],\n",
    "    'material':['wood', ;metal','plastic','wood','metal']\n",
    "                }\n",
    "# Initialize LabelEncoder\n",
    "                label_encoder = LabelEncoder()\n",
    "                \n",
    "# Apply label encoding to each column\n",
    "                encoded_data = {}\n",
    "                for column in data:\n",
    "                encoded_data[column] = label_encoder.fit_transform(data[column])\n",
    "                \n",
    "# Display encoded data\n",
    "                for column,encoded_value in\n",
    "                encoded_data.items():\n",
    "                print(f\"{column}:\n",
    "                      {encoded_values}\")"
   ]
  },
  {
   "cell_type": "code",
   "execution_count": 2,
   "id": "abb9120f-4361-4c86-b585-47d613cd8dc0",
   "metadata": {},
   "outputs": [
    {
     "name": "stderr",
     "output_type": "stream",
     "text": [
      "<>:5: SyntaxWarning: list indices must be integers or slices, not tuple; perhaps you missed a comma?\n",
      "<>:5: SyntaxWarning: list indices must be integers or slices, not tuple; perhaps you missed a comma?\n",
      "/tmp/ipykernel_103/1224585839.py:5: SyntaxWarning: list indices must be integers or slices, not tuple; perhaps you missed a comma?\n",
      "  [30,50000,12]\n",
      "/tmp/ipykernel_103/1224585839.py:5: SyntaxWarning: list indices must be integers or slices, not tuple; perhaps you missed a comma?\n",
      "  [30,50000,12]\n",
      "/tmp/ipykernel_103/1224585839.py:5: SyntaxWarning: list indices must be integers or slices, not tuple; perhaps you missed a comma?\n",
      "  [30,50000,12]\n",
      "/tmp/ipykernel_103/1224585839.py:5: SyntaxWarning: list indices must be integers or slices, not tuple; perhaps you missed a comma?\n",
      "  [30,50000,12]\n",
      "/tmp/ipykernel_103/1224585839.py:5: SyntaxWarning: list indices must be integers or slices, not tuple; perhaps you missed a comma?\n",
      "  [30,50000,12]\n",
      "/tmp/ipykernel_103/1224585839.py:5: SyntaxWarning: list indices must be integers or slices, not tuple; perhaps you missed a comma?\n",
      "  [30,50000,12]\n"
     ]
    },
    {
     "ename": "TypeError",
     "evalue": "list indices must be integers or slices, not tuple",
     "output_type": "error",
     "traceback": [
      "\u001b[0;31m---------------------------------------------------------------------------\u001b[0m",
      "\u001b[0;31mTypeError\u001b[0m                                 Traceback (most recent call last)",
      "Cell \u001b[0;32mIn[2], line 5\u001b[0m\n\u001b[1;32m      1\u001b[0m \u001b[38;5;28;01mimport\u001b[39;00m \u001b[38;5;21;01mnumpy\u001b[39;00m \u001b[38;5;28;01mas\u001b[39;00m \u001b[38;5;21;01mnp\u001b[39;00m\n\u001b[1;32m      3\u001b[0m \u001b[38;5;66;03m# Sample dataset\u001b[39;00m\n\u001b[1;32m      4\u001b[0m data \u001b[38;5;241m=\u001b[39m np\u001b[38;5;241m.\u001b[39marray([\n\u001b[0;32m----> 5\u001b[0m     \u001b[43m[\u001b[49m\u001b[38;5;241;43m30\u001b[39;49m\u001b[43m,\u001b[49m\u001b[38;5;241;43m50000\u001b[39;49m\u001b[43m,\u001b[49m\u001b[38;5;241;43m12\u001b[39;49m\u001b[43m]\u001b[49m\n\u001b[1;32m      6\u001b[0m \u001b[43m    \u001b[49m\u001b[43m[\u001b[49m\u001b[38;5;241;43m40\u001b[39;49m\u001b[43m,\u001b[49m\u001b[38;5;241;43m60000\u001b[39;49m\u001b[43m,\u001b[49m\u001b[38;5;241;43m16\u001b[39;49m\u001b[43m]\u001b[49m\n\u001b[1;32m      7\u001b[0m     [\u001b[38;5;241m25\u001b[39m,\u001b[38;5;241m40000\u001b[39m,\u001b[38;5;241m14\u001b[39m]\n\u001b[1;32m      8\u001b[0m     [\u001b[38;5;241m35\u001b[39m,\u001b[38;5;241m55000\u001b[39m,\u001b[38;5;241m15\u001b[39m]\n\u001b[1;32m      9\u001b[0m     [\u001b[38;5;241m45\u001b[39m,\u001b[38;5;241m70000\u001b[39m,\u001b[38;5;241m18\u001b[39m]\n\u001b[1;32m     10\u001b[0m ])\n\u001b[1;32m     12\u001b[0m \u001b[38;5;66;03m# Calculate the covariance matrix\u001b[39;00m\n\u001b[1;32m     13\u001b[0m covariance_matrix \u001b[38;5;241m=\u001b[39m np\u001b[38;5;241m.\u001b[39mcov(data,rowvar \u001b[38;5;241m=\u001b[39m \u001b[38;5;28;01mFalse\u001b[39;00m)\n",
      "\u001b[0;31mTypeError\u001b[0m: list indices must be integers or slices, not tuple"
     ]
    }
   ],
   "source": [
    "import numpy as np\n",
    "\n",
    "# Sample dataset\n",
    "data = np.array([\n",
    "    [30,50000,12]\n",
    "    [40,60000,16]\n",
    "    [25,40000,14]\n",
    "    [35,55000,15]\n",
    "    [45,70000,18]\n",
    "])\n",
    "\n",
    "# Calculate the covariance matrix\n",
    "covariance_matrix = np.cov(data,rowvar = False)\n",
    "\n",
    "print(\"covariance matrix:\")\n",
    "print(covariance_matrix)"
   ]
  },
  {
   "cell_type": "markdown",
   "id": "e5d91db8-6210-4b4a-8b61-bfb280d73999",
   "metadata": {},
   "source": [
    "For encoding categorical variable in a machine learning project,you typically have sevral options including label encoding,"
   ]
  }
 ],
 "metadata": {
  "kernelspec": {
   "display_name": "Python 3 (ipykernel)",
   "language": "python",
   "name": "python3"
  },
  "language_info": {
   "codemirror_mode": {
    "name": "ipython",
    "version": 3
   },
   "file_extension": ".py",
   "mimetype": "text/x-python",
   "name": "python",
   "nbconvert_exporter": "python",
   "pygments_lexer": "ipython3",
   "version": "3.10.8"
  }
 },
 "nbformat": 4,
 "nbformat_minor": 5
}
